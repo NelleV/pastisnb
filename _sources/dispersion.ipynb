{
 "cells": [
  {
   "cell_type": "markdown",
   "id": "choice-going",
   "metadata": {},
   "source": [
    "# Are contact counts overdispered?"
   ]
  },
  {
   "cell_type": "code",
   "execution_count": null,
   "id": "intensive-marketing",
   "metadata": {},
   "outputs": [],
   "source": [
    "import os\n",
    "import matplotlib\n",
    "import matplotlib.pyplot as plt\n",
    "import numpy as np\n",
    "from pastis import dispersion\n",
    "from sklearn.externals.joblib import Memory\n"
   ]
  }
 ],
 "metadata": {
  "jupytext": {
   "text_representation": {
    "extension": ".md",
    "format_name": "myst"
   }
  },
  "kernelspec": {
   "display_name": "Python 3",
   "language": "python",
   "name": "python3"
  },
  "source_map": [
   10,
   15
  ]
 },
 "nbformat": 4,
 "nbformat_minor": 5
}