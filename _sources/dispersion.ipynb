{
 "cells": [
  {
   "cell_type": "markdown",
   "id": "beginning-chick",
   "metadata": {},
   "source": [
    "# Are contact counts overdispered?"
   ]
  },
  {
   "cell_type": "code",
   "execution_count": 1,
   "id": "registered-hawaiian",
   "metadata": {},
   "outputs": [
    {
     "name": "stderr",
     "output_type": "stream",
     "text": [
      "/usr/share/miniconda3/envs/pastisnb/lib/python3.9/site-packages/pastis/externals/iced/normalization/_ca_utils.py:8: UserWarning: The API of this module is likely to change. Use only for testing purposes\n",
      "  warnings.warn(\n",
      "/usr/share/miniconda3/envs/pastisnb/lib/python3.9/site-packages/iced/normalization/_ca_utils.py:8: UserWarning: The API of this module is likely to change. Use only for testing purposes\n",
      "  warnings.warn(\n",
      "/usr/share/miniconda3/envs/pastisnb/lib/python3.9/site-packages/pastis/fastio.py:7: UserWarning: The module pastis.fastio is deprecated. The packaged iced has identical features and should be used instead. This module will be removed in version 0.5\n",
      "  warnings.warn(\n"
     ]
    }
   ],
   "source": [
    "import os\n",
    "import matplotlib\n",
    "import matplotlib.pyplot as plt\n",
    "import numpy as np\n",
    "from pastis import dispersion"
   ]
  },
  {
   "cell_type": "code",
   "execution_count": 2,
   "id": "swiss-cable",
   "metadata": {},
   "outputs": [],
   "source": [
    "from pastis import fastio\n",
    "from iced import io\n",
    "import iced\n",
    "\n",
    "def load(filename, normalize=True, bias=None):\n",
    "    try:\n",
    "        lengths = io.load_lengths(filename.replace(\".matrix\", \".bed\"))\n",
    "    except IOError:\n",
    "        lengths = io.load_lengths(filename.replace(\".matrix\", \"_abs.bed\"))\n",
    "\n",
    "    counts = io.load_counts(filename, lengths=lengths)\n",
    "\n",
    "    # Remove the diagonal and remove 0 from matrix\n",
    "    counts.setdiag(0)\n",
    "    counts = counts.tocsr()\n",
    "    counts.eliminate_zeros()\n",
    "    counts = counts.tocoo()\n",
    "\n",
    "    perc_filter = {\"/1mb\": 0.01,\n",
    "                   \"/500kb\": 0.02,\n",
    "                   \"/250kb\": 0.03,\n",
    "                   \"/200kb\": 0.04,\n",
    "                   \"/100kb\": 0.05,\n",
    "                   \"10000.\": 0.04,\n",
    "                   \"40000\": 0.04,\n",
    "                   \"/50kb\": 0.06}\n",
    "\n",
    "    if normalize and bias is not None:\n",
    "        bias = np.loadtxt(bias)\n",
    "\n",
    "        # First, filter out loci that have a bias equal to nan.\n",
    "        counts = counts.tocsr()\n",
    "        counts = iced.filter._filter_csr(counts, np.isnan(bias))\n",
    "        normed = counts.copy()\n",
    "        # Second, normalize the remaining counts with the bias vector provided\n",
    "        bias[np.isnan(bias)] = 1\n",
    "        normed = iced.normalization._update_normalization_csr(\n",
    "            normed,\n",
    "            bias.flatten())\n",
    "    elif normalize:\n",
    "        print(\"Normalizing\")\n",
    "        for k, v in perc_filter.items():\n",
    "            if k in filename:\n",
    "                print(\"Filtering\", v)\n",
    "\n",
    "                sum_ax = counts.sum(axis=0).flatten() + \\\n",
    "                    counts.sum(axis=1).flatten()\n",
    "                p = float((sum_ax == 0).sum()) / counts.shape[0]\n",
    "\n",
    "                counts = iced.filter.filter_low_counts(\n",
    "                    counts, percentage=(p + v),\n",
    "                    sparsity=False)\n",
    "                break\n",
    "        counts = counts.tocsr()\n",
    "        counts.eliminate_zeros()\n",
    "        normed, bias = iced.normalization.ICE_normalization(\n",
    "            counts, max_iter=300,\n",
    "            output_bias=True)\n",
    "    else:\n",
    "        bias = None\n",
    "        normed = counts\n",
    "\n",
    "    counts.setdiag(0)\n",
    "    counts = counts.tocsr()\n",
    "    counts.eliminate_zeros()\n",
    "    counts = counts.tocoo()\n",
    "    normed.setdiag(0)\n",
    "    normed = normed.tocsr()\n",
    "    normed.eliminate_zeros()\n",
    "    normed = normed.tocoo()\n",
    "    if bias is not None:\n",
    "        bias[np.isnan(bias)] = 1\n",
    "        bias = bias.flatten()\n",
    "    else:\n",
    "        bias = np.ones(normed.shape[0])\n",
    "\n",
    "    return counts, normed, lengths, bias"
   ]
  },
  {
   "cell_type": "code",
   "execution_count": 3,
   "id": "integrated-sample",
   "metadata": {},
   "outputs": [
    {
     "name": "stderr",
     "output_type": "stream",
     "text": [
      "/usr/share/miniconda3/envs/pastisnb/lib/python3.9/site-packages/iced/io/_io_pandas.py:56: UserWarning: Attempting to guess whether counts are 0 or 1 based\n",
      "  warnings.warn(\n"
     ]
    },
    {
     "name": "stdout",
     "output_type": "stream",
     "text": [
      "Normalizing\n",
      "Filtering 0.04\n"
     ]
    },
    {
     "name": "stderr",
     "output_type": "stream",
     "text": [
      "/usr/share/miniconda3/envs/pastisnb/lib/python3.9/site-packages/scipy/sparse/_index.py:125: SparseEfficiencyWarning: Changing the sparsity structure of a csr_matrix is expensive. lil_matrix is more efficient.\n",
      "  self._set_arrayXarray(i, j, x)\n"
     ]
    },
    {
     "data": {
      "image/png": "[encoded data removed]",
      "text/plain": [
       "<Figure size 432x288 with 1 Axes>"
      ]
     },
     "metadata": {
      "filenames": {
       "image/png": "/home/runner/work/pastisnb/pastisnb/docs/_build/jupyter_execute/dispersion_3_3.png"
      },
      "needs_background": "light"
     },
     "output_type": "display_data"
    }
   ],
   "source": [
    "matplotlib.rcParams['xtick.direction'] = 'out'\n",
    "matplotlib.rcParams['ytick.direction'] = 'out'\n",
    "matplotlib.rcParams[\"axes.labelsize\"] = \"small\"\n",
    "matplotlib.rcParams[\"xtick.labelsize\"] = \"x-small\"\n",
    "matplotlib.rcParams[\"ytick.labelsize\"] = \"x-small\"\n",
    "\n",
    "markers = [\"d\", \">\", \".\", \"8\", \"*\"]\n",
    "filenames = [#\"../../../data/sexton2012/all_10000_raw.matrix\",\n",
    "             \"./data/duan2009/duan.SC.10000.raw.matrix\",\n",
    "             \"./data/scerevisiaeve2015/counts.matrix\",\n",
    "             ]\n",
    "\n",
    "legends = [#\"D. melanogaster\",\n",
    "           #\"A. thaliana\",\n",
    "           #\"H. sapiens\",\n",
    "           \"S. cerevisiae\",\n",
    "           \"Volume exclusion\"]\n",
    "\n",
    "widerange = np.exp(np.arange(np.log(1e-1), np.log(1e7), 0.01))\n",
    "fig, ax = plt.subplots()\n",
    "fig.subplots_adjust(left=0.2, top=0.95, bottom=0.2)\n",
    "legend_markers = []\n",
    "for i, filename in enumerate(filenames):\n",
    "    normalize = True\n",
    "    if \"scerevisiaeve2015\" in filename:\n",
    "        normalize=False\n",
    "    counts, normed, lengths, bias = load(\n",
    "        filename, normalize=normalize)\n",
    "    _, mean, var, _ = dispersion.compute_mean_variance(\n",
    "        counts,\n",
    "        lengths,\n",
    "        bias=bias)\n",
    "    if \"rao\" in filename:\n",
    "        zorder = 5\n",
    "    else:\n",
    "        zorder = 10\n",
    "    s = ax.scatter(mean, var, linewidth=0, marker=markers[i],\n",
    "                   s=20, zorder=zorder)\n",
    "    legend_markers.append(s)\n",
    "\n",
    "ax.set_xscale(\"log\")\n",
    "ax.set_yscale(\"log\")\n",
    "\n",
    "le = ax.legend(legend_markers, legends, loc=4, fontsize=\"x-small\")\n",
    "ax.set_xlabel(r\"Mean\", fontsize=\"small\", fontweight=\"bold\")\n",
    "ax.set_ylabel(r\"Variance\", fontsize=\"small\", fontweight=\"bold\")\n",
    "\n",
    "ax.plot(np.arange(1e-1, 1e7, 1e6),\n",
    "        np.arange(1e-1, 1e7, 1e6),\n",
    "        linewidth=1,\n",
    "        linestyle=\"--\", color=(0, 0, 0))\n",
    "\n",
    "ax.grid(\"off\")\n",
    "ax.spines['right'].set_color('none')\n",
    "ax.spines['top'].set_color('none')\n",
    "ax.xaxis.set_ticks_position('bottom')\n",
    "ax.yaxis.set_ticks_position('left')\n",
    "\n",
    "ax.grid(which=\"major\", axis=\"y\", linewidth=0.75, linestyle=\"-\",\n",
    "        color=\"0.7\")\n",
    "f = le.get_frame()\n",
    "f.set_linewidth(0.5)\n",
    "\n"
   ]
  }
 ],
 "metadata": {
  "jupytext": {
   "text_representation": {
    "extension": ".md",
    "format_name": "myst"
   }
  },
  "kernelspec": {
   "display_name": "Python 3",
   "language": "python",
   "name": "python3"
  },
  "language_info": {
   "codemirror_mode": {
    "name": "ipython",
    "version": 3
   },
   "file_extension": ".py",
   "mimetype": "text/x-python",
   "name": "python",
   "nbconvert_exporter": "python",
   "pygments_lexer": "ipython3",
   "version": "3.9.2"
  },
  "source_map": [
   10,
   15,
   23,
   104
  ]
 },
 "nbformat": 4,
 "nbformat_minor": 5
}